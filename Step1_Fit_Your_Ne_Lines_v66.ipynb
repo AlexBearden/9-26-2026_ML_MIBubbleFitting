{
 "cells": [
  {
   "attachments": {},
   "cell_type": "markdown",
   "id": "fa33d9b1-7111-493c-8249-c259b1d6da90",
   "metadata": {},
   "source": [
    "# 1. Fitting Ne lines in a loop\n",
    "- This notebook shows how to fit all lines in a folder defined by path\n",
    "- You tweak the fit for a single line, and then use this to fit all lines. You can then refit lines with high residuals/offsets differing from the rest"
   ]
  },
  {
   "attachments": {},
   "cell_type": "markdown",
   "id": "843dfcc2-7b25-4675-aed6-0836447c1d9b",
   "metadata": {},
   "source": [
    "## Downloading locally\n",
    "- You can install DiadFit through PyPI, simply uncomment this line. You only need to run this once per computer (until you want to get an upgraded version)\n",
    "- Uncomment this line if you havent installed DiadFit, or are running a much older version. "
   ]
  },
  {
   "cell_type": "code",
   "execution_count": null,
   "id": "53d7722e",
   "metadata": {},
   "outputs": [],
   "source": [
    "#!pip install --upgrade DiadFit"
   ]
  },
  {
   "attachments": {},
   "cell_type": "markdown",
   "id": "c092307b-7725-4bf4-b1c0-3c3a52936d23",
   "metadata": {},
   "source": [
    "## Now import the packages you need\n",
    "- When you communicate bugs with Penny, make sure you specify the version here."
   ]
  },
  {
   "cell_type": "code",
   "execution_count": null,
   "id": "fcee43bb-9ac1-456e-a1fa-654bce7d6f0c",
   "metadata": {},
   "outputs": [],
   "source": [
    "import numpy as np\n",
    "import pandas as pd\n",
    "import matplotlib.pyplot as plt\n",
    "import DiadFit as pf\n",
    "# This needs to be 0.0.68 or higher!\n",
    "pf.__version__"
   ]
  },
  {
   "attachments": {},
   "cell_type": "markdown",
   "id": "e2749eb9-65a4-452e-89d3-8da651e114b8",
   "metadata": {},
   "source": [
    "##  Specifying paths\n",
    "- Put your path here, e.g. where in your computer the spectra and metadata are saved"
   ]
  },
  {
   "cell_type": "code",
   "execution_count": null,
   "id": "a4b56e08-a1bc-4056-8d33-a3a990761cb7",
   "metadata": {},
   "outputs": [],
   "source": [
    "import os\n",
    "DayFolder=os.getcwd()\n",
    "meta_path=DayFolder +  '\\MetaData'\n",
    "spectra_path=DayFolder + '\\Spectra'\n",
    "filetype='headless_txt'\n",
    "# What is your file extension? .txt, .csv, .xlsx?\n",
    "file_ext='.txt'\n",
    "# Does your file start with a prefix? E.g 01 Ne_line.txt?\n",
    "prefix=True\n",
    "prefix_str=' '\n",
    "# Does your instrument have TruPower?\n",
    "TruPower=True\n",
    "# Save settings to a file to use in all other notebooks\n",
    "pf.save_settings(meta_path, spectra_path, filetype, prefix, prefix_str, file_ext, TruPower)\n"
   ]
  },
  {
   "cell_type": "code",
   "execution_count": null,
   "id": "bbe32217-e5e6-45c2-9536-10af29a81b5e",
   "metadata": {},
   "outputs": [],
   "source": [
    "# This step gets all your Ne files. Enter ID_str as a string in only your Neon files, exclude strings not in Ne files. So here we take files with 'Ne' in the name and exclude those with 'diad' in the name. \n",
    "Ne_files=pf.get_files(path=spectra_path,\n",
    "file_ext='txt', ID_str='Ne', \n",
    "exclude_str=['diad'], sort=False)\n",
    "\n",
    "Ne_files"
   ]
  },
  {
   "attachments": {},
   "cell_type": "markdown",
   "id": "656e61a2-ae27-46dd-9e1c-9a69c35c1c1c",
   "metadata": {},
   "source": [
    "### Get Ne line positions for your specific laser wavelength\n",
    "- At the moment, this returns any Ne lines with intensity >2000 in the NIST databook, although you can change this!"
   ]
  },
  {
   "cell_type": "code",
   "execution_count": null,
   "id": "9ee1d69b-b8b2-4c30-9377-4a048b22b28c",
   "metadata": {},
   "outputs": [],
   "source": [
    "wavelength =532.046 # Specify the specific wavelength of your laser \n",
    "df_Ne=pf.calculate_Ne_line_positions(wavelength=wavelength, \n",
    "cut_off_intensity=2000)\n",
    "df_Ne.head()"
   ]
  },
  {
   "attachments": {},
   "cell_type": "markdown",
   "id": "cbf1b4fa-7077-4b62-a520-82e9fa37ec04",
   "metadata": {},
   "source": [
    "### Calculate the ideal distance between the two lines you are selecting\n",
    "- This finds the closest line in the table above for each selected line"
   ]
  },
  {
   "cell_type": "code",
   "execution_count": null,
   "id": "490dbb1f-60c9-4da5-af36-25529a8433e8",
   "metadata": {},
   "outputs": [],
   "source": [
    "line_1=1117\n",
    "line_2=1447\n",
    "ideal_split=pf.calculate_Ne_splitting(wavelength=wavelength, \n",
    "line1_shift=line_1, line2_shift=line_2,\n",
    "cut_off_intensity=2000)\n",
    "ideal_split"
   ]
  },
  {
   "attachments": {},
   "cell_type": "markdown",
   "id": "43deced3-cf2d-4fed-a5e2-adbece1937af",
   "metadata": {},
   "source": [
    "## Select one file to tweak the fit for\n",
    "- You can either do this numerically, or by specifiying the filename between ''"
   ]
  },
  {
   "cell_type": "code",
   "execution_count": null,
   "id": "8234e10b-ac6c-41ae-9155-918deecea607",
   "metadata": {},
   "outputs": [],
   "source": [
    "i=0 # Select one file\n",
    "filename=Ne_files[i] \n",
    "print(filename)"
   ]
  },
  {
   "attachments": {},
   "cell_type": "markdown",
   "id": "49b4e42f-8b67-4236-ad9f-4fc1d74ac5e9",
   "metadata": {},
   "source": [
    "## Plot Ne lines to inspect\n",
    "- This function allows you to inspect your spectra, and also uses scipy find peaks to get a first guess of the peak positions, which speeds up the voigt fitting in the later part of the notebook\n",
    "- This also prints the heights of the other peaks so you could choose other Neons if you wanted to"
   ]
  },
  {
   "cell_type": "code",
   "execution_count": null,
   "id": "0de7e5bb-cd3f-4a4d-a736-bc7c48799301",
   "metadata": {},
   "outputs": [],
   "source": [
    "exclude_range_1=None\n",
    "exclude_range_2=None\n",
    "\n",
    "Neon_id_config=pf.Neon_id_config(height=10,  distance=1, prominence=10, \n",
    "            width=1, threshold=0.6,\n",
    "            peak1_cent=line_1, peak2_cent=line_2, n_peaks=6, \n",
    "            exclude_range_1=exclude_range_1, \n",
    "            exclude_range_2=exclude_range_2)\n",
    "Neon_id_config\n",
    "\n",
    "Ne, df_fit_params=pf.identify_Ne_lines(path=spectra_path,\n",
    "filename=filename, filetype=filetype,\n",
    "config=Neon_id_config, print_df=False)\n",
    "df_fit_params"
   ]
  },
  {
   "attachments": {},
   "cell_type": "markdown",
   "id": "776310ae-9982-4feb-aa44-966a33b386dc",
   "metadata": {},
   "source": [
    "### Tweak peak parameters\n",
    "- One important thing is the background positions, these are defined relative to the peak position. Once you tweak them for each instrument, you chould be good to go. \n",
    "- Another thing is how many peaks you want for Peak1, 'peaks_1', for the 1117 line, you'll need 2 if you have the clear secondary peak seen above. "
   ]
  },
  {
   "cell_type": "code",
   "execution_count": null,
   "id": "2c54aaeb-240c-4245-8ab9-ab7c42d2f861",
   "metadata": {},
   "outputs": [],
   "source": [
    "pf.Ne_peak_config()"
   ]
  },
  {
   "cell_type": "code",
   "execution_count": null,
   "id": "47a65271-cec6-4e71-9a75-4403145d7bf7",
   "metadata": {},
   "outputs": [],
   "source": [
    "model_name='PseudoVoigtModel'\n",
    "Ne_Config_est=pf.Ne_peak_config(model_name=model_name,\n",
    " DeltaNe_ideal=ideal_split['Ne_Split'], peaks_1=2, LH_offset_mini=[0.5, 3],\n",
    "pk1_sigma=0.6, pk2_sigma=0.3,\n",
    "lower_bck_pk1=(-40, -25), upper_bck1_pk1=[40, 70], upper_bck2_pk1=[40, 70],\n",
    "lower_bck_pk2=[-40, -30], upper_bck1_pk2=[10, 15], upper_bck2_pk2=[25, 40],\n",
    "x_range_peak=5, x_span_pk1=[-10, 8], x_span_pk2=[-10, 10],\n",
    "N_poly_pk2_baseline=2 )"
   ]
  },
  {
   "cell_type": "code",
   "execution_count": null,
   "id": "0d38d1bd-3db8-4b9e-ad61-85d375f0f22c",
   "metadata": {},
   "outputs": [],
   "source": [
    "\n",
    "df_test_params=pf.fit_Ne_lines(Ne=Ne, filename=filename,\n",
    "path=spectra_path, prefix=prefix,\n",
    "config=Ne_Config_est,\n",
    "    Ne_center_1=df_fit_params['Peak1_cent'].iloc[0], \n",
    "    Ne_center_2=df_fit_params['Peak2_cent'].iloc[0],\n",
    "    Ne_prom_1=df_fit_params['Peak1_prom'].iloc[0],\n",
    "    Ne_prom_2=df_fit_params['Peak2_prom'].iloc[0],\n",
    "    const_params=False)                                                                 \n",
    "                                                                     \n",
    "display(df_test_params)"
   ]
  },
  {
   "cell_type": "code",
   "execution_count": null,
   "id": "9b6e546c",
   "metadata": {},
   "outputs": [],
   "source": [
    "## Now tweak the values of the sigma to help with the looping - then for looping we let these parameters only vary +-20% between spectra\n",
    "Ne_Config_est.pk1_sigma=df_test_params['pk1_sigma'][0]\n",
    "Ne_Config_est.pk2_sigma=df_test_params['pk2_sigma'][0]\n"
   ]
  },
  {
   "attachments": {},
   "cell_type": "markdown",
   "id": "6986df1b-cf64-43eb-a824-3fdfaf708bac",
   "metadata": {},
   "source": [
    "## Now fit all Ne files here using these parameters. \n",
    "- If you select plot_figure=False, the loop will be quick. \n",
    "- But if its True, you can to inspect the figures."
   ]
  },
  {
   "cell_type": "code",
   "execution_count": null,
   "id": "cd7102a3-8ce4-4976-b68d-6b2c531665e1",
   "metadata": {},
   "outputs": [],
   "source": [
    "df2=pf.loop_Ne_lines(files=Ne_files, spectra_path=spectra_path, \n",
    "filetype=filetype, config_ID_peaks=Neon_id_config, config=Ne_Config_est,\n",
    "df_fit_params=df_fit_params,  prefix=prefix,                   \n",
    "plot_figure=True, const_params=True)\n"
   ]
  },
  {
   "attachments": {},
   "cell_type": "markdown",
   "id": "112ee80a-b7ea-4572-914c-254b7bc0fb4f",
   "metadata": {},
   "source": [
    "## Now extract metadata to get a timestamp for each file"
   ]
  },
  {
   "cell_type": "code",
   "execution_count": null,
   "id": "d56abd1f-ae27-4650-8416-cc1d30c1c8b5",
   "metadata": {},
   "outputs": [],
   "source": [
    "## Get meta files\n",
    "Ne_files_meta=pf.get_files(path=meta_path,\n",
    "file_ext='txt', ID_str='Ne', \n",
    "exclude_str=['diad'], sort=False)\n",
    "\n",
    "Ne_files_meta[0:5]"
   ]
  },
  {
   "cell_type": "code",
   "execution_count": null,
   "id": "90a2ed08-118b-4871-a981-54ef178f6fd4",
   "metadata": {},
   "outputs": [],
   "source": [
    "# This cell stitches metadata together - e.g. gets your laser power, time stamp, accumulations etc\n",
    "meta=pf.stitch_metadata_in_loop_witec(path=meta_path, \n",
    "Allfiles=Ne_files_meta, prefix=prefix, trupower=TruPower)\n",
    "meta.head()"
   ]
  },
  {
   "cell_type": "code",
   "execution_count": null,
   "id": "0b3097a7-898e-4412-8f50-5cc9f9654553",
   "metadata": {},
   "outputs": [],
   "source": [
    "# This is getting the metadata file names.  Check here the prefix has been removed. \n",
    "file_m=pf.extracting_filenames_generic(names=meta['filename'], \n",
    "   file_ext='.txt')\n",
    "file_m"
   ]
  },
  {
   "cell_type": "code",
   "execution_count": null,
   "id": "a017cc62-6bf2-4fe4-88c1-689520a7a904",
   "metadata": {},
   "outputs": [],
   "source": [
    "# This is getting the spectra file names. Check that they are in the same format as the metadataones above, this is what you need to successfully stitch together. \n",
    "file_s=pf.extracting_filenames_generic(names=df2['filename'],\n",
    "   file_ext='.txt')\n",
    "file_s"
   ]
  },
  {
   "attachments": {},
   "cell_type": "markdown",
   "id": "74dd78b2-57fd-4a73-8776-878466703ae3",
   "metadata": {},
   "source": [
    "## Combine 2 dataframes\n",
    "- Here we add a new column to each dataframe with these stripped back names, and then merge the 2 dataframes"
   ]
  },
  {
   "cell_type": "code",
   "execution_count": null,
   "id": "a62b4346-725e-4a93-9520-bbd8a3a82cbd",
   "metadata": {},
   "outputs": [],
   "source": [
    "meta['name_for_matching']=file_m\n",
    "df2['name_for_matching']=file_s\n",
    "df_combo=df2.merge(meta, on='name_for_matching')"
   ]
  },
  {
   "attachments": {},
   "cell_type": "markdown",
   "id": "18c50b92-c311-4314-8f40-ecd63ea75f94",
   "metadata": {},
   "source": [
    "## Now lets inspect changes in Ne correction factor with time\n",
    "- Normally, you can spot outliers this way"
   ]
  },
  {
   "cell_type": "code",
   "execution_count": null,
   "id": "3d70021e-fd18-461a-8aa0-2295a2235147",
   "metadata": {},
   "outputs": [],
   "source": [
    "df_combo_sort=df_combo.sort_values(by='sec since midnight')\n",
    "df_combo_sort.to_excel('PseudoVoigt.xlsx')"
   ]
  },
  {
   "cell_type": "code",
   "execution_count": null,
   "id": "921ecd9e-2488-4673-9f98-9f4c018619b3",
   "metadata": {},
   "outputs": [],
   "source": [
    "fig=pf.plot_Ne_corrections(df=df_combo, x_axis=df_combo['sec since midnight'],\n",
    "                      x_label='secs since midnight')\n"
   ]
  },
  {
   "attachments": {},
   "cell_type": "markdown",
   "id": "3c31dbe3-a249-4e4f-8ac8-2b0a0872d8bc",
   "metadata": {},
   "source": [
    "## Exclude ones that don't look right...\n",
    "- The filter_Ne_Line_neighbours excludes Ne lines that have a correction factor more than \"offset\" from their N neighbours (defined by \"number_av\")\n",
    "- Tweak offset and number_av until you exclude the ones that dont look right\n",
    "- Smaller number of offset - more discarded\n",
    "- If you notice really bad fits, you can also exclude certain files like file_name_filt=['Ne_line_1.txt'], or file_name_filt=['Ne_line_2.txt', 'Ne_line_5.txt']"
   ]
  },
  {
   "cell_type": "code",
   "execution_count": null,
   "id": "5f3c8515-6a77-4dcf-8f19-d474de5cdaed",
   "metadata": {},
   "outputs": [],
   "source": [
    "filt=pf.filter_Ne_Line_neighbours(df_combo=df_combo, \n",
    "                    number_av=3, offset=0.001, file_name_filt=None)\n",
    "# Now lets plot this to see\n",
    "fig, (ax1) = plt.subplots(1, 1, figsize=(8,4))\n",
    "ax1.errorbar(df_combo['sec since midnight'], df_combo['Ne_Corr'], xerr=0, \n",
    "yerr=df_combo['1σ_Ne_Corr'], fmt='d', ecolor='k', elinewidth=0.8, mfc='cyan', ms=1, mec='k', capsize=3)\n",
    "ax1.plot(df_combo['sec since midnight'], df_combo['Ne_Corr'],   'ok', label='Removed')\n",
    "ax1.plot(df_combo['sec since midnight'], filt,  'or', label='Keep')\n",
    "\n",
    "ax1.legend()\n",
    "\n",
    "ax1.set_xlabel('Sec since midnight (s)')\n",
    "ax1.set_ylabel('Ne Correction factor')\n",
    "ax1.set_title('All measurements')\n",
    "\n",
    "fig.tight_layout()"
   ]
  },
  {
   "attachments": {},
   "cell_type": "markdown",
   "id": "fbc05a55-246f-45fd-adf5-47b8c04104c9",
   "metadata": {},
   "source": [
    "## Now lets make a regression against time\n",
    "- We take this time regression and then apply to our diad fits"
   ]
  },
  {
   "cell_type": "code",
   "execution_count": null,
   "id": "4e86ebd5-7972-4482-9547-0aac567a3d1b",
   "metadata": {},
   "outputs": [],
   "source": [
    "\n",
    "## Lets get filtered ones\n",
    "keep=filt>0\n",
    "pf.generate_Ne_corr_model(time=df_combo['sec since midnight'].loc[keep], Ne_corr=df_combo.loc[keep], \n",
    "N_poly=2, CI=0.67, pkl_name='Neon_corr_model.pkl')\n"
   ]
  },
  {
   "cell_type": "code",
   "execution_count": null,
   "id": "83b31bc7",
   "metadata": {},
   "outputs": [],
   "source": []
  },
  {
   "cell_type": "code",
   "execution_count": null,
   "id": "4e416ff4",
   "metadata": {},
   "outputs": [],
   "source": []
  }
 ],
 "metadata": {
  "kernelspec": {
   "display_name": "Python 3 (ipykernel)",
   "language": "python",
   "name": "python3"
  },
  "language_info": {
   "codemirror_mode": {
    "name": "ipython",
    "version": 3
   },
   "file_extension": ".py",
   "mimetype": "text/x-python",
   "name": "python",
   "nbconvert_exporter": "python",
   "pygments_lexer": "ipython3",
   "version": "3.11.4"
  }
 },
 "nbformat": 4,
 "nbformat_minor": 5
}
